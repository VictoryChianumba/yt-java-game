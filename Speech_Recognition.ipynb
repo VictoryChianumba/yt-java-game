{
  "nbformat": 4,
  "nbformat_minor": 0,
  "metadata": {
    "colab": {
      "provenance": [],
      "authorship_tag": "ABX9TyNrhHWs0tIl1Ay/DNFFX9cp",
      "include_colab_link": true
    },
    "kernelspec": {
      "name": "python3",
      "display_name": "Python 3"
    },
    "language_info": {
      "name": "python"
    },
    "widgets": {
      "application/vnd.jupyter.widget-state+json": {
        "a4446d96bb364694a7ec80bce5703f56": {
          "model_module": "@jupyter-widgets/controls",
          "model_name": "ButtonModel",
          "model_module_version": "1.5.0",
          "state": {
            "_dom_classes": [],
            "_model_module": "@jupyter-widgets/controls",
            "_model_module_version": "1.5.0",
            "_model_name": "ButtonModel",
            "_view_count": null,
            "_view_module": "@jupyter-widgets/controls",
            "_view_module_version": "1.5.0",
            "_view_name": "ButtonView",
            "button_style": "success",
            "description": "Record",
            "disabled": false,
            "icon": "microphone",
            "layout": "IPY_MODEL_f14c19b1f06d4f8c85ecf8e231b0883c",
            "style": "IPY_MODEL_88f17a77f7af4c20b220bc00ad3db98b",
            "tooltip": ""
          }
        },
        "f14c19b1f06d4f8c85ecf8e231b0883c": {
          "model_module": "@jupyter-widgets/base",
          "model_name": "LayoutModel",
          "model_module_version": "1.2.0",
          "state": {
            "_model_module": "@jupyter-widgets/base",
            "_model_module_version": "1.2.0",
            "_model_name": "LayoutModel",
            "_view_count": null,
            "_view_module": "@jupyter-widgets/base",
            "_view_module_version": "1.2.0",
            "_view_name": "LayoutView",
            "align_content": null,
            "align_items": null,
            "align_self": null,
            "border": null,
            "bottom": null,
            "display": null,
            "flex": null,
            "flex_flow": null,
            "grid_area": null,
            "grid_auto_columns": null,
            "grid_auto_flow": null,
            "grid_auto_rows": null,
            "grid_column": null,
            "grid_gap": null,
            "grid_row": null,
            "grid_template_areas": null,
            "grid_template_columns": null,
            "grid_template_rows": null,
            "height": null,
            "justify_content": null,
            "justify_items": null,
            "left": null,
            "margin": null,
            "max_height": null,
            "max_width": null,
            "min_height": null,
            "min_width": null,
            "object_fit": null,
            "object_position": null,
            "order": null,
            "overflow": null,
            "overflow_x": null,
            "overflow_y": null,
            "padding": null,
            "right": null,
            "top": null,
            "visibility": null,
            "width": null
          }
        },
        "88f17a77f7af4c20b220bc00ad3db98b": {
          "model_module": "@jupyter-widgets/controls",
          "model_name": "ButtonStyleModel",
          "model_module_version": "1.5.0",
          "state": {
            "_model_module": "@jupyter-widgets/controls",
            "_model_module_version": "1.5.0",
            "_model_name": "ButtonStyleModel",
            "_view_count": null,
            "_view_module": "@jupyter-widgets/base",
            "_view_module_version": "1.2.0",
            "_view_name": "StyleView",
            "button_color": null,
            "font_weight": ""
          }
        },
        "63fcc0ae85ea4966a1ff6dc74eddb102": {
          "model_module": "@jupyter-widgets/controls",
          "model_name": "ButtonModel",
          "model_module_version": "1.5.0",
          "state": {
            "_dom_classes": [],
            "_model_module": "@jupyter-widgets/controls",
            "_model_module_version": "1.5.0",
            "_model_name": "ButtonModel",
            "_view_count": null,
            "_view_module": "@jupyter-widgets/controls",
            "_view_module_version": "1.5.0",
            "_view_name": "ButtonView",
            "button_style": "warning",
            "description": "Stop",
            "disabled": false,
            "icon": "stop",
            "layout": "IPY_MODEL_46d565084c354d83adb65431b1dcf238",
            "style": "IPY_MODEL_37c4ee0429154caea0ed1b2e0e9f8669",
            "tooltip": ""
          }
        },
        "46d565084c354d83adb65431b1dcf238": {
          "model_module": "@jupyter-widgets/base",
          "model_name": "LayoutModel",
          "model_module_version": "1.2.0",
          "state": {
            "_model_module": "@jupyter-widgets/base",
            "_model_module_version": "1.2.0",
            "_model_name": "LayoutModel",
            "_view_count": null,
            "_view_module": "@jupyter-widgets/base",
            "_view_module_version": "1.2.0",
            "_view_name": "LayoutView",
            "align_content": null,
            "align_items": null,
            "align_self": null,
            "border": null,
            "bottom": null,
            "display": null,
            "flex": null,
            "flex_flow": null,
            "grid_area": null,
            "grid_auto_columns": null,
            "grid_auto_flow": null,
            "grid_auto_rows": null,
            "grid_column": null,
            "grid_gap": null,
            "grid_row": null,
            "grid_template_areas": null,
            "grid_template_columns": null,
            "grid_template_rows": null,
            "height": null,
            "justify_content": null,
            "justify_items": null,
            "left": null,
            "margin": null,
            "max_height": null,
            "max_width": null,
            "min_height": null,
            "min_width": null,
            "object_fit": null,
            "object_position": null,
            "order": null,
            "overflow": null,
            "overflow_x": null,
            "overflow_y": null,
            "padding": null,
            "right": null,
            "top": null,
            "visibility": null,
            "width": null
          }
        },
        "37c4ee0429154caea0ed1b2e0e9f8669": {
          "model_module": "@jupyter-widgets/controls",
          "model_name": "ButtonStyleModel",
          "model_module_version": "1.5.0",
          "state": {
            "_model_module": "@jupyter-widgets/controls",
            "_model_module_version": "1.5.0",
            "_model_name": "ButtonStyleModel",
            "_view_count": null,
            "_view_module": "@jupyter-widgets/base",
            "_view_module_version": "1.2.0",
            "_view_name": "StyleView",
            "button_color": null,
            "font_weight": ""
          }
        },
        "d996d8985d124ce0b07d51ea09844b2b": {
          "model_module": "@jupyter-widgets/output",
          "model_name": "OutputModel",
          "model_module_version": "1.0.0",
          "state": {
            "_dom_classes": [],
            "_model_module": "@jupyter-widgets/output",
            "_model_module_version": "1.0.0",
            "_model_name": "OutputModel",
            "_view_count": null,
            "_view_module": "@jupyter-widgets/output",
            "_view_module_version": "1.0.0",
            "_view_name": "OutputView",
            "layout": "IPY_MODEL_c0913da253ef405c8e82247431b6908a",
            "msg_id": "",
            "outputs": [
              {
                "output_type": "display_data",
                "data": {
                  "text/plain": "'Starting...'",
                  "application/vnd.google.colaboratory.intrinsic+json": {
                    "type": "string"
                  }
                },
                "metadata": {}
              }
            ]
          }
        },
        "c0913da253ef405c8e82247431b6908a": {
          "model_module": "@jupyter-widgets/base",
          "model_name": "LayoutModel",
          "model_module_version": "1.2.0",
          "state": {
            "_model_module": "@jupyter-widgets/base",
            "_model_module_version": "1.2.0",
            "_model_name": "LayoutModel",
            "_view_count": null,
            "_view_module": "@jupyter-widgets/base",
            "_view_module_version": "1.2.0",
            "_view_name": "LayoutView",
            "align_content": null,
            "align_items": null,
            "align_self": null,
            "border": null,
            "bottom": null,
            "display": null,
            "flex": null,
            "flex_flow": null,
            "grid_area": null,
            "grid_auto_columns": null,
            "grid_auto_flow": null,
            "grid_auto_rows": null,
            "grid_column": null,
            "grid_gap": null,
            "grid_row": null,
            "grid_template_areas": null,
            "grid_template_columns": null,
            "grid_template_rows": null,
            "height": null,
            "justify_content": null,
            "justify_items": null,
            "left": null,
            "margin": null,
            "max_height": null,
            "max_width": null,
            "min_height": null,
            "min_width": null,
            "object_fit": null,
            "object_position": null,
            "order": null,
            "overflow": null,
            "overflow_x": null,
            "overflow_y": null,
            "padding": null,
            "right": null,
            "top": null,
            "visibility": null,
            "width": null
          }
        }
      }
    }
  },
  "cells": [
    {
      "cell_type": "markdown",
      "metadata": {
        "id": "view-in-github",
        "colab_type": "text"
      },
      "source": [
        "<a href=\"https://colab.research.google.com/github/VictoryChianumba/yt-java-game/blob/master/Speech_Recognition.ipynb\" target=\"_parent\"><img src=\"https://colab.research.google.com/assets/colab-badge.svg\" alt=\"Open In Colab\"/></a>"
      ]
    },
    {
      "cell_type": "code",
      "source": [
        "!apt install libasound2-dev portaudio19-dev\n",
        "libportaudio2 libportaudiocpp0 ffmpeg"
      ],
      "metadata": {
        "id": "xzHdF76ge1p4"
      },
      "execution_count": null,
      "outputs": []
    },
    {
      "cell_type": "markdown",
      "source": [],
      "metadata": {
        "id": "gIfRqiR30T6n"
      }
    },
    {
      "cell_type": "code",
      "source": [
        "!pip install PyAudio"
      ],
      "metadata": {
        "id": "PBljY-kZmM75"
      },
      "execution_count": null,
      "outputs": []
    },
    {
      "cell_type": "code",
      "source": [
        "%pip install torch"
      ],
      "metadata": {
        "id": "WY9zjGP5uWrE"
      },
      "execution_count": null,
      "outputs": []
    },
    {
      "cell_type": "code",
      "source": [
        "%pip install vosk"
      ],
      "metadata": {
        "id": "V4eg9j_puLJQ"
      },
      "execution_count": null,
      "outputs": []
    },
    {
      "cell_type": "code",
      "source": [
        "%pip install transformers"
      ],
      "metadata": {
        "id": "yMJxe7fguQU6"
      },
      "execution_count": null,
      "outputs": []
    },
    {
      "cell_type": "code",
      "execution_count": 23,
      "metadata": {
        "colab": {
          "base_uri": "https://localhost:8080/",
          "height": 99,
          "referenced_widgets": [
            "a4446d96bb364694a7ec80bce5703f56",
            "f14c19b1f06d4f8c85ecf8e231b0883c",
            "88f17a77f7af4c20b220bc00ad3db98b",
            "63fcc0ae85ea4966a1ff6dc74eddb102",
            "46d565084c354d83adb65431b1dcf238",
            "37c4ee0429154caea0ed1b2e0e9f8669",
            "d996d8985d124ce0b07d51ea09844b2b",
            "c0913da253ef405c8e82247431b6908a"
          ]
        },
        "id": "ufbSH2dmLM_G",
        "outputId": "90cf12d1-b16d-40f6-84d7-a591235b013b"
      },
      "outputs": [
        {
          "output_type": "display_data",
          "data": {
            "text/plain": [
              "Button(button_style='success', description='Record', icon='microphone', style=ButtonStyle())"
            ],
            "application/vnd.jupyter.widget-view+json": {
              "version_major": 2,
              "version_minor": 0,
              "model_id": "a4446d96bb364694a7ec80bce5703f56"
            }
          },
          "metadata": {}
        },
        {
          "output_type": "display_data",
          "data": {
            "text/plain": [
              "Button(button_style='warning', description='Stop', icon='stop', style=ButtonStyle())"
            ],
            "application/vnd.jupyter.widget-view+json": {
              "version_major": 2,
              "version_minor": 0,
              "model_id": "63fcc0ae85ea4966a1ff6dc74eddb102"
            }
          },
          "metadata": {}
        },
        {
          "output_type": "display_data",
          "data": {
            "text/plain": [
              "Output()"
            ],
            "application/vnd.jupyter.widget-view+json": {
              "version_major": 2,
              "version_minor": 0,
              "model_id": "d996d8985d124ce0b07d51ea09844b2b"
            }
          },
          "metadata": {}
        }
      ],
      "source": [
        "import ipywidgets as widgets\n",
        "from IPython.display import display\n",
        "from threading import Thread\n",
        "from queue import Queue\n",
        "\n",
        "messages = Queue()\n",
        "recordings = Queue()\n",
        "\n",
        "record_button = widgets.Button(\n",
        "    description = \"Record\",\n",
        "    disable = False,\n",
        "    button_style = \"Success\",\n",
        "    icon = \"microphone\"\n",
        ")\n",
        "\n",
        "stop_button = widgets.Button(\n",
        "    description = \"Stop\",\n",
        "    disable = False,\n",
        "    button_style = \"warning\",\n",
        "    icon=\"stop\"\n",
        ")\n",
        "\n",
        "output = widgets.Output()\n",
        "\n",
        "def start_recording(data):\n",
        "  messages.put(True)\n",
        "\n",
        "  with output:\n",
        "    display(\"Starting...\")\n",
        "    record = Thread(target = record_microphone)\n",
        "    record.start()\n",
        "\n",
        "    transcribe = Thread(target= speech_recognition, args=(output,))\n",
        "\n",
        "def stop_recording(data):\n",
        "  with output:\n",
        "    messages.get()\n",
        "    display(\"Stopped\")\n",
        "\n",
        "record_button.on_click(start_recording)\n",
        "stop_button.on_click(stop_recording)\n",
        "\n",
        "display(record_button, stop_button, output)"
      ]
    },
    {
      "cell_type": "code",
      "source": [
        "import pyaudio\n",
        "\n",
        "p = pyaudio.PyAudio()\n",
        "for i in range(p.get_device_count()):\n",
        "  print(p.get_device_info_by_index(i))\n",
        "\n",
        "p.terminate()"
      ],
      "metadata": {
        "id": "KXRYs-1MMQ6U"
      },
      "execution_count": 16,
      "outputs": []
    },
    {
      "cell_type": "code",
      "source": [
        "CHANNELS = 1\n",
        "FRAME_RATE = 16000\n",
        "RECORD_SECONDS= 20\n",
        "AUDIO_FORMAT = pyaudio.paInt16\n",
        "SAMPLE_SIZE = 2\n",
        "\n",
        "def record_microphone(chunk = 1024):\n",
        "  p = pyaudio.PyAudio()\n",
        "\n",
        "  stream = p.open(format = AUDIO_FORMAT,\n",
        "                  channels = CHANNELS,\n",
        "                  rate = FRAME_RATE,\n",
        "                  input = True,\n",
        "                  input_device_index=2,\n",
        "                  frames_per_buffer=chunk\n",
        "                  )\n",
        "\n",
        "  frames = []\n",
        "\n",
        "  while not messages.empty():\n",
        "    data = stream.read(chunk)\n",
        "    frames.append(data)\n",
        "\n",
        "    if len(frames) >= (FRAME_RATE * RECORD_SECONDS) / chunk:\n",
        "      recordings.put(frames.copy())\n",
        "      frames = []\n",
        "\n",
        "  stream.stop_stream()\n",
        "  stream.close()\n",
        "  p.terminate()"
      ],
      "metadata": {
        "id": "_WqDXuFHms5b"
      },
      "execution_count": 17,
      "outputs": []
    },
    {
      "cell_type": "code",
      "source": [
        "import subprocess\n",
        "import json\n",
        "from vosk import Model, KaldiRecognizer\n",
        "\n",
        "model = Model(model_name=\"vosk-model-small-en-us-0.15\")\n",
        "rec = KaldiRecognizer(model, FRAME_RATE)\n",
        "rec.SetWords(True)\n",
        "\n",
        "def speech_recognition(output):\n",
        "  while not messages.empty():\n",
        "    frames = recordings.get()\n",
        "\n",
        "    rec.AcceptWaveform(b''.join(frames))\n",
        "    result = rec.Result()\n",
        "    text = json.loads(result)[\"text\"]\n",
        "\n",
        "    #cased = subprocess.check_output()\n",
        ""
      ],
      "metadata": {
        "colab": {
          "base_uri": "https://localhost:8080/"
        },
        "id": "tlnG9_ZHumrw",
        "outputId": "a2d53ba4-40fa-44b0-d8ce-24e0e32cddf6"
      },
      "execution_count": 21,
      "outputs": [
        {
          "output_type": "stream",
          "name": "stderr",
          "text": [
            "vosk-model-small-en-us-0.15.zip: 100%|██████████| 39.3M/39.3M [00:03<00:00, 12.8MB/s]\n"
          ]
        }
      ]
    }
  ]
}